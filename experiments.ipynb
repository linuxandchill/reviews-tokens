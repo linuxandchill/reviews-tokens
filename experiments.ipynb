{
 "cells": [
  {
   "cell_type": "code",
   "execution_count": 1,
   "metadata": {},
   "outputs": [
    {
     "name": "stderr",
     "output_type": "stream",
     "text": [
      "/home/lac/anaconda3/envs/chatbot/lib/python3.6/importlib/_bootstrap.py:219: RuntimeWarning: numpy.dtype size changed, may indicate binary incompatibility. Expected 96, got 88\n",
      "  return f(*args, **kwds)\n",
      "Using TensorFlow backend.\n"
     ]
    }
   ],
   "source": [
    "import keras"
   ]
  },
  {
   "cell_type": "code",
   "execution_count": 2,
   "metadata": {},
   "outputs": [],
   "source": [
    "from keras.datasets import imdb"
   ]
  },
  {
   "cell_type": "code",
   "execution_count": 4,
   "metadata": {},
   "outputs": [],
   "source": [
    "from keras import preprocessing"
   ]
  },
  {
   "cell_type": "code",
   "execution_count": 5,
   "metadata": {},
   "outputs": [],
   "source": [
    "max_features = 10000 #max number of words"
   ]
  },
  {
   "cell_type": "code",
   "execution_count": 7,
   "metadata": {},
   "outputs": [],
   "source": [
    "maxlen = 20 #max number of words in review"
   ]
  },
  {
   "cell_type": "code",
   "execution_count": 8,
   "metadata": {},
   "outputs": [],
   "source": [
    "(x_train, y_train), (x_test, y_test) = imdb.load_data(num_words = max_features)"
   ]
  },
  {
   "cell_type": "code",
   "execution_count": 10,
   "metadata": {},
   "outputs": [],
   "source": [
    "x_train = preprocessing.sequence.pad_sequences(x_train, maxlen=maxlen)"
   ]
  },
  {
   "cell_type": "code",
   "execution_count": 11,
   "metadata": {},
   "outputs": [],
   "source": [
    "x_test = preprocessing.sequence.pad_sequences(x_test, maxlen=maxlen)"
   ]
  },
  {
   "cell_type": "code",
   "execution_count": 12,
   "metadata": {},
   "outputs": [
    {
     "data": {
      "text/plain": [
       "array([[ 286,  170,    8, ...,   14,    6,  717],\n",
       "       [  10,   10,  472, ...,  125,    4, 3077],\n",
       "       [  34,    2,   45, ...,    9,   57,  975],\n",
       "       ...,\n",
       "       [ 226,   20,  272, ...,   21,  846, 5518],\n",
       "       [  55,  117,  212, ..., 2302,    7,  470],\n",
       "       [  19,   14,   20, ...,   34, 2005, 2643]], dtype=int32)"
      ]
     },
     "execution_count": 12,
     "metadata": {},
     "output_type": "execute_result"
    }
   ],
   "source": [
    "x_test"
   ]
  },
  {
   "cell_type": "code",
   "execution_count": 15,
   "metadata": {},
   "outputs": [],
   "source": [
    "from keras.layers import Flatten, Dense, Embedding\n",
    "from keras.models import Sequential"
   ]
  },
  {
   "cell_type": "code",
   "execution_count": 16,
   "metadata": {},
   "outputs": [],
   "source": [
    "model = Sequential()\n",
    "model.add(Embedding(10000, 8, input_length=maxlen))\n",
    "model.add(Flatten())"
   ]
  },
  {
   "cell_type": "code",
   "execution_count": 17,
   "metadata": {},
   "outputs": [
    {
     "name": "stdout",
     "output_type": "stream",
     "text": [
      "_________________________________________________________________\n",
      "Layer (type)                 Output Shape              Param #   \n",
      "=================================================================\n",
      "embedding_1 (Embedding)      (None, 20, 8)             80000     \n",
      "_________________________________________________________________\n",
      "flatten_1 (Flatten)          (None, 160)               0         \n",
      "_________________________________________________________________\n",
      "dense_1 (Dense)              (None, 1)                 161       \n",
      "=================================================================\n",
      "Total params: 80,161\n",
      "Trainable params: 80,161\n",
      "Non-trainable params: 0\n",
      "_________________________________________________________________\n"
     ]
    }
   ],
   "source": [
    "model.add(Dense(1, activation='sigmoid'))\n",
    "model.compile(optimizer='rmsprop', loss='binary_crossentropy', metrics=['acc'])\n",
    "model.summary()"
   ]
  },
  {
   "cell_type": "code",
   "execution_count": 19,
   "metadata": {},
   "outputs": [
    {
     "name": "stdout",
     "output_type": "stream",
     "text": [
      "Train on 20000 samples, validate on 5000 samples\n",
      "Epoch 1/30\n",
      "20000/20000 [==============================] - 1s 31us/step - loss: 0.2665 - acc: 0.8938 - val_loss: 0.5415 - val_acc: 0.7470\n",
      "Epoch 2/30\n",
      "20000/20000 [==============================] - 1s 32us/step - loss: 0.2500 - acc: 0.9022 - val_loss: 0.5528 - val_acc: 0.7428\n",
      "Epoch 3/30\n",
      "20000/20000 [==============================] - 1s 31us/step - loss: 0.2348 - acc: 0.9090 - val_loss: 0.5660 - val_acc: 0.7410\n",
      "Epoch 4/30\n",
      "20000/20000 [==============================] - 1s 36us/step - loss: 0.2207 - acc: 0.9154 - val_loss: 0.5773 - val_acc: 0.7392\n",
      "Epoch 5/30\n",
      "20000/20000 [==============================] - 1s 35us/step - loss: 0.2075 - acc: 0.9218 - val_loss: 0.5910 - val_acc: 0.7372\n",
      "Epoch 6/30\n",
      "20000/20000 [==============================] - 1s 29us/step - loss: 0.1952 - acc: 0.9250 - val_loss: 0.6056 - val_acc: 0.7342\n",
      "Epoch 7/30\n",
      "20000/20000 [==============================] - 1s 32us/step - loss: 0.1837 - acc: 0.9310 - val_loss: 0.6209 - val_acc: 0.7302\n",
      "Epoch 8/30\n",
      "20000/20000 [==============================] - 1s 35us/step - loss: 0.1729 - acc: 0.9363 - val_loss: 0.6362 - val_acc: 0.7306\n",
      "Epoch 9/30\n",
      "20000/20000 [==============================] - 1s 31us/step - loss: 0.1633 - acc: 0.9394 - val_loss: 0.6535 - val_acc: 0.7286\n",
      "Epoch 10/30\n",
      "20000/20000 [==============================] - 1s 31us/step - loss: 0.1538 - acc: 0.9443 - val_loss: 0.6700 - val_acc: 0.7236\n",
      "Epoch 11/30\n",
      "20000/20000 [==============================] - 1s 31us/step - loss: 0.1457 - acc: 0.9478 - val_loss: 0.6878 - val_acc: 0.7206\n",
      "Epoch 12/30\n",
      "20000/20000 [==============================] - 1s 31us/step - loss: 0.1377 - acc: 0.9517 - val_loss: 0.7059 - val_acc: 0.7206\n",
      "Epoch 13/30\n",
      "20000/20000 [==============================] - 1s 31us/step - loss: 0.1306 - acc: 0.9548 - val_loss: 0.7226 - val_acc: 0.7194\n",
      "Epoch 14/30\n",
      "20000/20000 [==============================] - 1s 31us/step - loss: 0.1237 - acc: 0.9584 - val_loss: 0.7399 - val_acc: 0.7180\n",
      "Epoch 15/30\n",
      "20000/20000 [==============================] - 1s 32us/step - loss: 0.1179 - acc: 0.9601 - val_loss: 0.7582 - val_acc: 0.7168\n",
      "Epoch 16/30\n",
      "20000/20000 [==============================] - 1s 31us/step - loss: 0.1118 - acc: 0.9636 - val_loss: 0.7773 - val_acc: 0.7140\n",
      "Epoch 17/30\n",
      "20000/20000 [==============================] - 1s 31us/step - loss: 0.1062 - acc: 0.9651 - val_loss: 0.7965 - val_acc: 0.7130\n",
      "Epoch 18/30\n",
      "20000/20000 [==============================] - 1s 32us/step - loss: 0.1012 - acc: 0.9671 - val_loss: 0.8160 - val_acc: 0.7118\n",
      "Epoch 19/30\n",
      "20000/20000 [==============================] - 1s 33us/step - loss: 0.0967 - acc: 0.9689 - val_loss: 0.8338 - val_acc: 0.7094\n",
      "Epoch 20/30\n",
      "20000/20000 [==============================] - 1s 33us/step - loss: 0.0922 - acc: 0.9707 - val_loss: 0.8534 - val_acc: 0.7070\n",
      "Epoch 21/30\n",
      "20000/20000 [==============================] - 1s 31us/step - loss: 0.0880 - acc: 0.9720 - val_loss: 0.8751 - val_acc: 0.7078\n",
      "Epoch 22/30\n",
      "20000/20000 [==============================] - 1s 36us/step - loss: 0.0840 - acc: 0.9736 - val_loss: 0.8932 - val_acc: 0.7054\n",
      "Epoch 23/30\n",
      "20000/20000 [==============================] - 1s 33us/step - loss: 0.0803 - acc: 0.9747 - val_loss: 0.9134 - val_acc: 0.7092\n",
      "Epoch 24/30\n",
      "20000/20000 [==============================] - 1s 32us/step - loss: 0.0771 - acc: 0.9756 - val_loss: 0.9351 - val_acc: 0.7046\n",
      "Epoch 25/30\n",
      "20000/20000 [==============================] - 1s 32us/step - loss: 0.0737 - acc: 0.9767 - val_loss: 0.9563 - val_acc: 0.7044\n",
      "Epoch 26/30\n",
      "20000/20000 [==============================] - 1s 32us/step - loss: 0.0707 - acc: 0.9781 - val_loss: 0.9756 - val_acc: 0.7048\n",
      "Epoch 27/30\n",
      "20000/20000 [==============================] - 1s 32us/step - loss: 0.0679 - acc: 0.9797 - val_loss: 0.9974 - val_acc: 0.7000\n",
      "Epoch 28/30\n",
      "20000/20000 [==============================] - 1s 32us/step - loss: 0.0653 - acc: 0.9802 - val_loss: 1.0186 - val_acc: 0.7004\n",
      "Epoch 29/30\n",
      "20000/20000 [==============================] - 1s 32us/step - loss: 0.0625 - acc: 0.9806 - val_loss: 1.0390 - val_acc: 0.7000\n",
      "Epoch 30/30\n",
      "20000/20000 [==============================] - 1s 32us/step - loss: 0.0601 - acc: 0.9816 - val_loss: 1.0598 - val_acc: 0.6990\n"
     ]
    }
   ],
   "source": [
    "#history = model.fit(x_train, y_train, epochs=30, batch_size=32, validation_split=0.2)"
   ]
  },
  {
   "cell_type": "code",
   "execution_count": 20,
   "metadata": {},
   "outputs": [
    {
     "ename": "ModuleNotFoundError",
     "evalue": "No module named 'pandas'",
     "output_type": "error",
     "traceback": [
      "\u001b[0;31m---------------------------------------------------------------------------\u001b[0m",
      "\u001b[0;31mModuleNotFoundError\u001b[0m                       Traceback (most recent call last)",
      "\u001b[0;32m<ipython-input-20-38d4b0363d82>\u001b[0m in \u001b[0;36m<module>\u001b[0;34m()\u001b[0m\n\u001b[0;32m----> 1\u001b[0;31m \u001b[0;32mimport\u001b[0m \u001b[0mpandas\u001b[0m\u001b[0;34m\u001b[0m\u001b[0m\n\u001b[0m",
      "\u001b[0;31mModuleNotFoundError\u001b[0m: No module named 'pandas'"
     ]
    }
   ],
   "source": [
    "import pandas"
   ]
  },
  {
   "cell_type": "code",
   "execution_count": 21,
   "metadata": {},
   "outputs": [
    {
     "name": "stderr",
     "output_type": "stream",
     "text": [
      "/home/lac/anaconda3/envs/chatbot/lib/python3.6/importlib/_bootstrap.py:219: RuntimeWarning: numpy.dtype size changed, may indicate binary incompatibility. Expected 96, got 88\n",
      "  return f(*args, **kwds)\n",
      "/home/lac/anaconda3/envs/chatbot/lib/python3.6/importlib/_bootstrap.py:219: RuntimeWarning: numpy.dtype size changed, may indicate binary incompatibility. Expected 96, got 88\n",
      "  return f(*args, **kwds)\n"
     ]
    }
   ],
   "source": [
    "import pandas as pd"
   ]
  },
  {
   "cell_type": "code",
   "execution_count": 22,
   "metadata": {},
   "outputs": [],
   "source": [
    "#zodiac data\n",
    "data = pd.read_csv('./ZodiacReviews2.csv')"
   ]
  },
  {
   "cell_type": "code",
   "execution_count": 23,
   "metadata": {},
   "outputs": [
    {
     "data": {
      "text/plain": [
       "Index(['Date', 'Reviewer', 'Rating', 'Comment', 'Opinion', 'Type'], dtype='object')"
      ]
     },
     "execution_count": 23,
     "metadata": {},
     "output_type": "execute_result"
    }
   ],
   "source": [
    "data.columns"
   ]
  },
  {
   "cell_type": "code",
   "execution_count": 24,
   "metadata": {},
   "outputs": [],
   "source": [
    "import os"
   ]
  },
  {
   "cell_type": "code",
   "execution_count": 25,
   "metadata": {},
   "outputs": [],
   "source": [
    "labels = []\n",
    "texts = []"
   ]
  },
  {
   "cell_type": "code",
   "execution_count": 26,
   "metadata": {},
   "outputs": [
    {
     "data": {
      "text/html": [
       "<div>\n",
       "<style scoped>\n",
       "    .dataframe tbody tr th:only-of-type {\n",
       "        vertical-align: middle;\n",
       "    }\n",
       "\n",
       "    .dataframe tbody tr th {\n",
       "        vertical-align: top;\n",
       "    }\n",
       "\n",
       "    .dataframe thead th {\n",
       "        text-align: right;\n",
       "    }\n",
       "</style>\n",
       "<table border=\"1\" class=\"dataframe\">\n",
       "  <thead>\n",
       "    <tr style=\"text-align: right;\">\n",
       "      <th></th>\n",
       "      <th>Date</th>\n",
       "      <th>Reviewer</th>\n",
       "      <th>Rating</th>\n",
       "      <th>Comment</th>\n",
       "      <th>Opinion</th>\n",
       "      <th>Type</th>\n",
       "    </tr>\n",
       "  </thead>\n",
       "  <tbody>\n",
       "    <tr>\n",
       "      <th>0</th>\n",
       "      <td>11/6/11</td>\n",
       "      <td>Timewasting</td>\n",
       "      <td>1.0</td>\n",
       "      <td>Version : 1.1\\nUseless\\nAvailable November, th...</td>\n",
       "      <td>negative</td>\n",
       "      <td>other</td>\n",
       "    </tr>\n",
       "    <tr>\n",
       "      <th>1</th>\n",
       "      <td>2/27/12</td>\n",
       "      <td>A Google User</td>\n",
       "      <td>1.0</td>\n",
       "      <td>It just came out on Friday and suddenly there ...</td>\n",
       "      <td>negative</td>\n",
       "      <td>other</td>\n",
       "    </tr>\n",
       "    <tr>\n",
       "      <th>2</th>\n",
       "      <td>4/13/12</td>\n",
       "      <td>A Google User</td>\n",
       "      <td>1.0</td>\n",
       "      <td>Won't Open Installed but won't open on my GNex.</td>\n",
       "      <td>negative</td>\n",
       "      <td>other</td>\n",
       "    </tr>\n",
       "    <tr>\n",
       "      <th>3</th>\n",
       "      <td>7/14/12</td>\n",
       "      <td>Sman66</td>\n",
       "      <td>1.0</td>\n",
       "      <td>Version : 2.0\\nAlways offline!\\nThis app stink...</td>\n",
       "      <td>negative</td>\n",
       "      <td>connectivity</td>\n",
       "    </tr>\n",
       "    <tr>\n",
       "      <th>4</th>\n",
       "      <td>7/22/12</td>\n",
       "      <td>A Google User</td>\n",
       "      <td>1.0</td>\n",
       "      <td>Always crashes on Jelly Bean Love the function...</td>\n",
       "      <td>negative</td>\n",
       "      <td>other</td>\n",
       "    </tr>\n",
       "  </tbody>\n",
       "</table>\n",
       "</div>"
      ],
      "text/plain": [
       "      Date       Reviewer  Rating  \\\n",
       "0  11/6/11    Timewasting     1.0   \n",
       "1  2/27/12  A Google User     1.0   \n",
       "2  4/13/12  A Google User     1.0   \n",
       "3  7/14/12         Sman66     1.0   \n",
       "4  7/22/12  A Google User     1.0   \n",
       "\n",
       "                                             Comment   Opinion          Type  \n",
       "0  Version : 1.1\\nUseless\\nAvailable November, th...  negative         other  \n",
       "1  It just came out on Friday and suddenly there ...  negative         other  \n",
       "2    Won't Open Installed but won't open on my GNex.  negative         other  \n",
       "3  Version : 2.0\\nAlways offline!\\nThis app stink...  negative  connectivity  \n",
       "4  Always crashes on Jelly Bean Love the function...  negative         other  "
      ]
     },
     "execution_count": 26,
     "metadata": {},
     "output_type": "execute_result"
    }
   ],
   "source": [
    "data.head()"
   ]
  },
  {
   "cell_type": "code",
   "execution_count": null,
   "metadata": {},
   "outputs": [],
   "source": []
  }
 ],
 "metadata": {
  "kernelspec": {
   "display_name": "NLP",
   "language": "python",
   "name": "chatbot"
  },
  "language_info": {
   "codemirror_mode": {
    "name": "ipython",
    "version": 3
   },
   "file_extension": ".py",
   "mimetype": "text/x-python",
   "name": "python",
   "nbconvert_exporter": "python",
   "pygments_lexer": "ipython3",
   "version": "3.6.6"
  }
 },
 "nbformat": 4,
 "nbformat_minor": 2
}
